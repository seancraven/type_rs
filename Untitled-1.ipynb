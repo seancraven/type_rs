{
 "cells": [
  {
   "cell_type": "code",
   "execution_count": 1,
   "metadata": {},
   "outputs": [],
   "source": [
    "\"\"\"Simple file to make random variables.\"\"\"\n",
    "import random"
   ]
  },
  {
   "cell_type": "code",
   "execution_count": 2,
   "metadata": {},
   "outputs": [],
   "source": [
    "class Bernoulli:\n",
    "    \"\"\"\n",
    "    A Class for generating Bernoulli random variables.\n",
    "    \"\"\"\n",
    "\n",
    "    def __init__(self, probs):\n",
    "        self.probs = probs\n",
    "\n",
    "    def sample(self, size):\n",
    "        \"\"\"Sample from a Bernoulli distribution.\"\"\"\n",
    "        uniform_random_vars = [random.random() for i in range(size)]\n",
    "        return [1 if i < self.probs else 0 for i in uniform_random_vars]\n",
    "\n",
    "    def mean(self):\n",
    "        \"\"\"Return the mean of a Bernoulli distribution.\"\"\"\n",
    "        return self.probs"
   ]
  },
  {
   "cell_type": "code",
   "execution_count": 3,
   "metadata": {},
   "outputs": [
    {
     "name": "stdout",
     "output_type": "stream",
     "text": [
      "Random Variabel:  1\n",
      "Random Variabel:  0\n",
      "Random Variabel:  1\n",
      "Random Variabel:  1\n",
      "Random Variabel:  0\n"
     ]
    }
   ],
   "source": [
    "dist = Bernoulli(0.5)\n",
    "sample = dist.sample(5)\n",
    "for i in sample:\n",
    "    print(\"Random Variabel: \", i)"
   ]
  },
  {
   "cell_type": "code",
   "execution_count": null,
   "metadata": {},
   "outputs": [],
   "source": []
  }
 ],
 "metadata": {
  "kernelspec": {
   "display_name": "apdl-cw",
   "language": "python",
   "name": "python3"
  },
  "language_info": {
   "codemirror_mode": {
    "name": "ipython",
    "version": 3
   },
   "file_extension": ".py",
   "mimetype": "text/x-python",
   "name": "python",
   "nbconvert_exporter": "python",
   "pygments_lexer": "ipython3",
   "version": "3.11.3"
  },
  "orig_nbformat": 4
 },
 "nbformat": 4,
 "nbformat_minor": 2
}
